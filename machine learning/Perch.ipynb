{
  "nbformat": 4,
  "nbformat_minor": 0,
  "metadata": {
    "colab": {
      "name": "perch.ipynb",
      "provenance": [],
      "collapsed_sections": []
    },
    "kernelspec": {
      "name": "python3",
      "display_name": "Python 3"
    },
    "language_info": {
      "name": "python"
    }
  },
  "cells": [
    {
      "cell_type": "code",
      "source": [
        "import numpy as np\n",
        "import matplotlib.pyplot as plt\n",
        "import pandas as pd\n",
        "from sklearn.model_selection import train_test_split  # 데이터 셋 나누는 모듈\n",
        "from sklearn.neighbors import KNeighborsRegressor     # K-NN 회귀 사용\n",
        "from sklearn.metrics import mean_absolute_error       # 평균 절댓값 오차 계산\n",
        "from sklearn.linear_model import LinearRegression, Ridge, Lasso     # 선형 회귀, 규제 사용\n",
        "from sklearn.preprocessing import PolynomialFeatures, StandardScaler  # 변환기 사용\n"
      ],
      "metadata": {
        "id": "bqCJ2Yj0_F-9"
      },
      "execution_count": 8,
      "outputs": []
    },
    {
      "cell_type": "code",
      "execution_count": null,
      "metadata": {
        "colab": {
          "base_uri": "https://localhost:8080/"
        },
        "id": "SuHgBVqA-7mO",
        "outputId": "0215a411-690e-4b6e-cf67-9b6b0f270193"
      },
      "outputs": [
        {
          "output_type": "stream",
          "name": "stdout",
          "text": [
            "test 데이터 평가: 0.992809406101064\n",
            "train 데이터 평가:  0.9698823289099254\n",
            "\n",
            "test 데이터 평가: 0.9746459963987609\n",
            "train 데이터 평가:  0.9804899950518966\n"
          ]
        }
      ],
      "source": [
        " perch_length = np.array([8.4, 13.7, 15.0, 16.2, 17.4, 18.0, 18.7, 19.0, 19.6, 20.0, 21.0,\n",
        "       21.0, 21.0, 21.3, 22.0, 22.0, 22.0, 22.0, 22.0, 22.5, 22.5, 22.7,\n",
        "       23.0, 23.5, 24.0, 24.0, 24.6, 25.0, 25.6, 26.5, 27.3, 27.5, 27.5,\n",
        "       27.5, 28.0, 28.7, 30.0, 32.8, 34.5, 35.0, 36.5, 36.0, 37.0, 37.0,\n",
        "       39.0, 39.0, 39.0, 40.0, 40.0, 40.0, 40.0, 42.0, 43.0, 43.0, 43.5,\n",
        "       44.0])\n",
        " \n",
        "perch_weight = np.array([5.9, 32.0, 40.0, 51.5, 70.0, 100.0, 78.0, 80.0, 85.0, 85.0, 110.0,\n",
        "       115.0, 125.0, 130.0, 120.0, 120.0, 130.0, 135.0, 110.0, 130.0,\n",
        "       150.0, 145.0, 150.0, 170.0, 225.0, 145.0, 188.0, 180.0, 197.0,\n",
        "       218.0, 300.0, 260.0, 265.0, 250.0, 250.0, 300.0, 320.0, 514.0,\n",
        "       556.0, 840.0, 685.0, 700.0, 700.0, 690.0, 900.0, 650.0, 820.0,\n",
        "       850.0, 900.0, 1015.0, 820.0, 1100.0, 1000.0, 1100.0, 1000.0,\n",
        "       1000.0])\n",
        "\n",
        "train_input, test_input, train_target, test_target = train_test_split(perch_length,perch_weight,random_state=42)    # 훈련세트, 테스트세트 분류\n",
        "\n",
        "train_input = train_input.reshape(-1,1)   # 2차원 배열로 변경\n",
        "test_input = test_input.reshape(-1,1)\n",
        "\n",
        "knr = KNeighborsRegressor()     # 모델 학습\n",
        "knr.fit(train_input,train_target)\n",
        "\n",
        "knr.score(test_input,test_target)    # 모델 평가\n",
        "\n",
        "test_pre = knr.predict(test_input)    # 테스트 세트에 예측 만들기\n",
        "mae = mean_absolute_error(test_target,test_pre)   # 테스트 세트에 대한 평균 절댓값 오차를 계산하다.\n",
        "\n",
        "print('test 데이터 평가:',knr.score(test_input,test_target))\n",
        "print('train 데이터 평가: ',knr.score(train_input,train_target))    # 테스트 데이터 > 학습 데이터 -> 과소적합\n",
        "print()\n",
        "\n",
        "# 이웃의 개수를 3개로 줄여 더욱 민감하게 학습시킨다.\n",
        "knr.n_neighbors = 3\n",
        "knr.fit(train_input,train_target)\n",
        "\n",
        "print('test 데이터 평가:',knr.score(test_input,test_target))\n",
        "print('train 데이터 평가: ',knr.score(train_input,train_target))\n",
        "\n"
      ]
    },
    {
      "cell_type": "code",
      "source": [
        "plt.scatter(perch_length,perch_weight)\n",
        "plt.show()"
      ],
      "metadata": {
        "colab": {
          "base_uri": "https://localhost:8080/",
          "height": 265
        },
        "id": "BZ0aKEDQ_wGK",
        "outputId": "e7915365-1630-49cc-cd68-40fbe42c6bc4"
      },
      "execution_count": null,
      "outputs": [
        {
          "output_type": "display_data",
          "data": {
            "text/plain": [
              "<Figure size 432x288 with 1 Axes>"
            ],
            "image/png": "[encoded data removed]"
          },
          "metadata": {
            "needs_background": "light"
          }
        }
      ]
    },
    {
      "cell_type": "code",
      "source": [
        " perch_length = np.array([8.4, 13.7, 15.0, 16.2, 17.4, 18.0, 18.7, 19.0, 19.6, 20.0, 21.0,\n",
        "       21.0, 21.0, 21.3, 22.0, 22.0, 22.0, 22.0, 22.0, 22.5, 22.5, 22.7,\n",
        "       23.0, 23.5, 24.0, 24.0, 24.6, 25.0, 25.6, 26.5, 27.3, 27.5, 27.5,\n",
        "       27.5, 28.0, 28.7, 30.0, 32.8, 34.5, 35.0, 36.5, 36.0, 37.0, 37.0,\n",
        "       39.0, 39.0, 39.0, 40.0, 40.0, 40.0, 40.0, 42.0, 43.0, 43.0, 43.5,\n",
        "       44.0])\n",
        " \n",
        "perch_weight = np.array([5.9, 32.0, 40.0, 51.5, 70.0, 100.0, 78.0, 80.0, 85.0, 85.0, 110.0,\n",
        "       115.0, 125.0, 130.0, 120.0, 120.0, 130.0, 135.0, 110.0, 130.0,\n",
        "       150.0, 145.0, 150.0, 170.0, 225.0, 145.0, 188.0, 180.0, 197.0,\n",
        "       218.0, 300.0, 260.0, 265.0, 250.0, 250.0, 300.0, 320.0, 514.0,\n",
        "       556.0, 840.0, 685.0, 700.0, 700.0, 690.0, 900.0, 650.0, 820.0,\n",
        "       850.0, 900.0, 1015.0, 820.0, 1100.0, 1000.0, 1100.0, 1000.0,\n",
        "       1000.0])\n",
        "train_input, test_input, train_target, test_target = train_test_split(perch_length,perch_weight,random_state=42)\n",
        "train_input, test_input = train_input.reshape(-1,1), test_input.reshape(-1,1)\n",
        "\n",
        "knr = KNeighborsRegressor(n_neighbors=3)\n",
        "knr.fit(train_input,train_target)\n",
        "\n",
        "print('K-NN(회귀)50cm 도미 무게(g): ',knr.predict([[50]]))\n",
        "print('K-NN(회귀) 훈련 점수: ',knr.score(train_input,train_target))\n",
        "print('K-NN(회귀) 테스트 점수: ',knr.score(test_input,test_target))\n",
        "print()\n",
        "# 문제점: 50cm 농어의 무게는 1,033g보다 훨씬 더 나간다\n",
        "# 분석: K-NN은 사례 기반 학습이기 떄문에 모델 파라미터가 없다.\n",
        "# 해결: 선형 회귀를 사용한다.\n",
        "\n",
        "# 선형 회귀 객체 만든 후, 학습시켜 값 예측\n",
        "lr1 = LinearRegression()  \n",
        "lr1.fit(train_input,train_target)\n",
        "\n",
        "print('선형 회귀(1차 함수) 50cm 도미 무게(g): ',lr1.predict([[50]])) \n",
        "print('선형 회귀(1차 함수) 훈련 점수: ',lr1.score(train_input,train_target))\n",
        "print('선형 회귀(1차 함수) 테스트 점수: ',lr1.score(test_input,test_target))\n",
        "print()\n",
        "\n",
        "# 직선 그래프가 아닌 곡선 그래프로 그리기 위해 제곱해준다.\n",
        "train_poly = np.column_stack((train_input ** 2, train_input))\n",
        "test_poly = np.column_stack((test_input ** 2, test_input))\n",
        "lr2 = LinearRegression()\n",
        "lr2.fit(train_poly,train_target)\n",
        "\n",
        "print('다항 회귀(2차 함수) 50cm 도미 무게(g): ',lr2.predict([[50 ** 2, 50]]))\n",
        "print('다항 회귀(2차 함수) 훈련 점수: ',lr2.score(train_poly,train_target))\n",
        "print('다항 회귀(2차 함수) 테스트 점수: ',lr2.score(test_poly,test_target))  # 약간의 과소적합이 남아있다.\n",
        "print()"
      ],
      "metadata": {
        "colab": {
          "base_uri": "https://localhost:8080/"
        },
        "id": "RzleLMXsbHAO",
        "outputId": "d492af32-e2a2-44a5-be96-4fa7ca02e932"
      },
      "execution_count": null,
      "outputs": [
        {
          "output_type": "stream",
          "name": "stdout",
          "text": [
            "K-NN(회귀)50cm 도미 무게(g):  [1033.33333333]\n",
            "K-NN(회귀) 훈련 점수:  0.9804899950518966\n",
            "K-NN(회귀) 테스트 점수:  0.9746459963987609\n",
            "\n",
            "선형 회귀(1차 함수) 50cm 도미 무게(g):  [1241.83860323]\n",
            "선형 회귀(1차 함수) 훈련 점수:  0.939846333997604\n",
            "선형 회귀(1차 함수) 테스트 점수:  0.8247503123313558\n",
            "\n",
            "비선형 회귀(2차 함수) 50cm 도미 무게(g):  [1573.98423528]\n",
            "비선형 회귀(2차 함수) 훈련 점수:  0.9706807451768623\n",
            "비선형 회귀(2차 함수) 테스트 점수:  0.9775935108325122\n",
            "\n"
          ]
        }
      ]
    },
    {
      "cell_type": "code",
      "source": [
        "d, idx = knr.kneighbors([[50]])\n",
        "\n",
        "plt.scatter(train_input,train_target)\n",
        "plt.scatter(train_input[idx],train_target[idx],marker='D')\n",
        "plt.scatter(50,1033,marker='^')     # K-NN(회귀)-50cm 농어 데이터\n",
        "plt.show()\n",
        "\n",
        "plt.scatter(train_input,train_target)\n",
        "plt.plot([15,50],[15*lr1.coef_+lr1.intercept_,50*lr1.coef_+lr1.intercept_])\n",
        "plt.scatter(50,1241.8,marker='^')    # 선형 화귀-50cm 농어 데이터\n",
        "plt.show()\n",
        "\n",
        "point = np.arange(15,50)\n",
        "plt.scatter(train_input,train_target)\n",
        "plt.plot(point,1.01*point**2-21.6*point+116.05) # 다항 회귀-50cm 농어 데이터\n",
        "plt.show()"
      ],
      "metadata": {
        "colab": {
          "base_uri": "https://localhost:8080/",
          "height": 761
        },
        "id": "eMYWDqMlcKGf",
        "outputId": "2fdd8119-2d1a-474b-caaa-38207929b76d"
      },
      "execution_count": null,
      "outputs": [
        {
          "output_type": "display_data",
          "data": {
            "text/plain": [
              "<Figure size 432x288 with 1 Axes>"
            ],
            "image/png": "[encoded data removed]"
          },
          "metadata": {
            "needs_background": "light"
          }
        },
        {
          "output_type": "display_data",
          "data": {
            "text/plain": [
              "<Figure size 432x288 with 1 Axes>"
            ],
            "image/png": "[encoded data removed]"
          },
          "metadata": {
            "needs_background": "light"
          }
        },
        {
          "output_type": "display_data",
          "data": {
            "text/plain": [
              "<Figure size 432x288 with 1 Axes>"
            ],
            "image/png": "[encoded data removed]"
          },
          "metadata": {
            "needs_background": "light"
          }
        }
      ]
    },
    {
      "cell_type": "code",
      "source": [
        "df = pd.read_csv('https://bit.ly/perch_csv_data')\n",
        "\n",
        "perch_full = df.to_numpy()    # 농어의 길이, 높이, 넓이\n",
        "\n",
        "perch_weight = np.array([5.9, 32.0, 40.0, 51.5, 70.0, 100.0, 78.0, 80.0, 85.0, 85.0, 110.0,\n",
        "       115.0, 125.0, 130.0, 120.0, 120.0, 130.0, 135.0, 110.0, 130.0,\n",
        "       150.0, 145.0, 150.0, 170.0, 225.0, 145.0, 188.0, 180.0, 197.0,\n",
        "       218.0, 300.0, 260.0, 265.0, 250.0, 250.0, 300.0, 320.0, 514.0,\n",
        "       556.0, 840.0, 685.0, 700.0, 700.0, 690.0, 900.0, 650.0, 820.0,\n",
        "       850.0, 900.0, 1015.0, 820.0, 1100.0, 1000.0, 1100.0, 1000.0,\n",
        "       1000.0])\n",
        "\n",
        "train_input, test_input, train_target, test_target = train_test_split(perch_full, perch_weight, random_state=42)\n",
        "\n",
        "\n",
        "poly = PolynomialFeatures(degree=5, include_bias=False)      # 객체 생성, degree: 5제곱까지 특성 생성, include_bias: 1삭제\n",
        "poly.fit(train_input)           # 특성 공학\n",
        "train_poly = poly.transform(train_input)\n",
        "test_poly = poly.transform(test_input)\n",
        "\n",
        "lr = LinearRegression()     # 다중 회귀 만들기\n",
        "lr.fit(train_poly,train_target)\n",
        "lr.score(test_poly,test_target)\n",
        "\n",
        "ss = StandardScaler()      # 전처리 만들기\n",
        "ss.fit(train_poly)\n",
        "train_scaled = ss.transform(train_poly)\n",
        "test_scaled = ss.transform(test_poly)\n",
        "\n",
        "ridge = Ridge(alpha=0.1)       # 릿지 회귀(규제) 만들기\n",
        "ridge.fit(train_scaled,train_target)\n",
        "\n",
        "print(ridge.score(train_scaled,train_target))\n",
        "print(ridge.score(test_scaled,test_target))"
      ],
      "metadata": {
        "id": "22q331RHqfnX",
        "colab": {
          "base_uri": "https://localhost:8080/"
        },
        "outputId": "72b8b0ce-3382-4ce9-e448-1815d12c5761"
      },
      "execution_count": 7,
      "outputs": [
        {
          "output_type": "stream",
          "name": "stdout",
          "text": [
            "0.9903815817570365\n",
            "0.9827976465386884\n"
          ]
        }
      ]
    },
    {
      "cell_type": "code",
      "source": [
        "alpha_list = [0.001, 0.01, 0.1, 1, 10, 100]    # 적절한 규제 강도 찾기\n",
        "train_score, test_score = [], []\n",
        "\n",
        "for alpha in alpha_list:\n",
        "  ridge = Ridge(alpha = alpha)\n",
        "  ridge.fit(train_scaled,train_target)\n",
        "  train_score.append(ridge.score(train_scaled,train_target))\n",
        "  test_score.append(ridge.score(test_scaled,test_target))\n",
        "\n",
        "plt.plot(np.log10(alpha_list),train_score)\n",
        "plt.plot(np.log10(alpha_list),test_score)\n",
        "plt.show()"
      ],
      "metadata": {
        "colab": {
          "base_uri": "https://localhost:8080/",
          "height": 265
        },
        "id": "g6yuzHOoHPiM",
        "outputId": "c2946f6f-3039-4e01-950d-c5cd89c69253"
      },
      "execution_count": 3,
      "outputs": [
        {
          "output_type": "display_data",
          "data": {
            "text/plain": [
              "<Figure size 432x288 with 1 Axes>"
            ],
            "image/png": "[encoded data removed]"
          },
          "metadata": {
            "needs_background": "light"
          }
        }
      ]
    },
    {
      "cell_type": "code",
      "source": [
        "lasso = Lasso(alpha=10)     # 라쏘 회귀 사용\n",
        "\n",
        "lasso.fit(train_scaled,train_target)\n",
        "\n",
        "print(lasso.score(train_scaled,train_target))\n",
        "print(lasso.score(test_scaled,test_target))\n",
        "\n",
        "alpha_list = [0.001, 0.01, 0.1, 1, 10, 100]     # 적절한 규제 강도 찾기\n",
        "train_score, test_score = [], []\n",
        "\n",
        "for alpha in alpha_list:\n",
        "  lasso = Lasso(alpha = alpha)\n",
        "  lasso.fit(train_scaled,train_target)\n",
        "  train_score.append(lasso.score(train_scaled,train_target))\n",
        "  test_score.append(lasso.score(test_scaled,test_target))\n",
        "\n",
        "plt.plot(np.log10(alpha_list),train_score)\n",
        "plt.plot(np.log10(alpha_list),test_score)\n",
        "plt.show()\n"
      ],
      "metadata": {
        "colab": {
          "base_uri": "https://localhost:8080/",
          "height": 428
        },
        "id": "0-lyNovUJmsJ",
        "outputId": "c2e2be38-b25e-4d8e-83f0-275c928d65c5"
      },
      "execution_count": 14,
      "outputs": [
        {
          "output_type": "stream",
          "name": "stdout",
          "text": [
            "0.9888067471131867\n",
            "0.9824470598706695\n"
          ]
        },
        {
          "output_type": "stream",
          "name": "stderr",
          "text": [
            "/usr/local/lib/python3.7/dist-packages/sklearn/linear_model/_coordinate_descent.py:648: ConvergenceWarning: Objective did not converge. You might want to increase the number of iterations, check the scale of the features or consider increasing regularisation. Duality gap: 2.336e+04, tolerance: 5.183e+02\n",
            "  coef_, l1_reg, l2_reg, X, y, max_iter, tol, rng, random, positive\n",
            "/usr/local/lib/python3.7/dist-packages/sklearn/linear_model/_coordinate_descent.py:648: ConvergenceWarning: Objective did not converge. You might want to increase the number of iterations, check the scale of the features or consider increasing regularisation. Duality gap: 2.025e+04, tolerance: 5.183e+02\n",
            "  coef_, l1_reg, l2_reg, X, y, max_iter, tol, rng, random, positive\n",
            "/usr/local/lib/python3.7/dist-packages/sklearn/linear_model/_coordinate_descent.py:648: ConvergenceWarning: Objective did not converge. You might want to increase the number of iterations, check the scale of the features or consider increasing regularisation. Duality gap: 8.062e+02, tolerance: 5.183e+02\n",
            "  coef_, l1_reg, l2_reg, X, y, max_iter, tol, rng, random, positive\n"
          ]
        },
        {
          "output_type": "display_data",
          "data": {
            "text/plain": [
              "<Figure size 432x288 with 1 Axes>"
            ],
            "image/png": "[encoded data removed]"
          },
          "metadata": {
            "needs_background": "light"
          }
        }
      ]
    }
  ]
}
