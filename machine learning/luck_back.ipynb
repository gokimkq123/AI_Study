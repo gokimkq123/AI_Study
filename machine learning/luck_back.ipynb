{
  "nbformat": 4,
  "nbformat_minor": 0,
  "metadata": {
    "colab": {
      "name": "luck_back.ipynb",
      "provenance": [],
      "collapsed_sections": [],
      "toc_visible": true
    },
    "kernelspec": {
      "name": "python3",
      "display_name": "Python 3"
    },
    "language_info": {
      "name": "python"
    }
  },
  "cells": [
    {
      "cell_type": "markdown",
      "source": [
        "# 모듈"
      ],
      "metadata": {
        "id": "Sj3n_V6Nzund"
      }
    },
    {
      "cell_type": "code",
      "execution_count": 11,
      "metadata": {
        "id": "4HWYem4OGffR"
      },
      "outputs": [],
      "source": [
        "import pandas as pd\n",
        "import numpy as np\n",
        "import matplotlib.pyplot as plt\n",
        "from sklearn.model_selection import train_test_split  # 데이터 셋 분류\n",
        "from sklearn.preprocessing import StandardScaler      # 사이킷런 전처리 사용\n",
        "from sklearn.neighbors import KNeighborsClassifier    # K-NN 사용\n",
        "from sklearn.linear_model import LogisticRegression, SGDClassifier   # 로지스틱 회귀 사용, 확률적 경사 하강법 사용\n",
        "from scipy.special import softmax                     # softmax 사용\n"
      ]
    },
    {
      "cell_type": "markdown",
      "source": [
        "# KNN을 사용하여 예측 분류해보기"
      ],
      "metadata": {
        "id": "2CKmARKVzsrx"
      }
    },
    {
      "cell_type": "code",
      "source": [
        "fish = pd.read_csv('https://bit.ly/fish_csv_data')\n",
        "\n",
        "fish_input = fish.iloc[:,1:].to_numpy()\n",
        "fish_target = fish['Species'].to_numpy()\n",
        "\n",
        "train_input, test_input, train_target, test_target = train_test_split(fish_input, fish_target, random_state=42)\n",
        "\n",
        "ss = StandardScaler()\n",
        "ss.fit(train_input)\n",
        "train_scaled = ss.transform(train_input)\n",
        "test_scaled = ss.transform(test_input)\n",
        "\n",
        "kn = KNeighborsClassifier(n_neighbors=3)\n",
        "kn.fit(train_scaled,train_target)\n",
        "\n",
        "proba = kn.predict_proba(test_scaled[:5])\n",
        "\n",
        "print('예측 값: ',kn.predict(test_scaled[:5]))\n",
        "print('확률 순서: ',kn.classes_)\n",
        "print('확률: ',np.round(proba,decimals=4))"
      ],
      "metadata": {
        "colab": {
          "base_uri": "https://localhost:8080/"
        },
        "id": "wR9Yg3UQGuOj",
        "outputId": "e985af1b-9755-4429-d9f4-d2ef8340827d"
      },
      "execution_count": 7,
      "outputs": [
        {
          "output_type": "stream",
          "name": "stdout",
          "text": [
            "예측 값:  ['Perch' 'Smelt' 'Pike' 'Perch' 'Perch']\n",
            "확률 순서:  ['Bream' 'Parkki' 'Perch' 'Pike' 'Roach' 'Smelt' 'Whitefish']\n",
            "확률:  [[0.     0.     1.     0.     0.     0.     0.    ]\n",
            " [0.     0.     0.     0.     0.     1.     0.    ]\n",
            " [0.     0.     0.     1.     0.     0.     0.    ]\n",
            " [0.     0.     0.6667 0.     0.3333 0.     0.    ]\n",
            " [0.     0.     0.6667 0.     0.3333 0.     0.    ]]\n"
          ]
        }
      ]
    },
    {
      "cell_type": "markdown",
      "source": [
        "# 시그모이드 함수 구현"
      ],
      "metadata": {
        "id": "vfec7fDpz16T"
      }
    },
    {
      "cell_type": "code",
      "source": [
        "z = np.arange(-5,5,0.1)\n",
        "phi = 1 / (1 + np.exp(-z))\n",
        "\n",
        "plt.plot(z,phi)\n",
        "plt.show()"
      ],
      "metadata": {
        "colab": {
          "base_uri": "https://localhost:8080/",
          "height": 265
        },
        "id": "SZyXtki4X_WJ",
        "outputId": "0183875b-cbb7-4abb-db7d-da3f9292779b"
      },
      "execution_count": 8,
      "outputs": [
        {
          "output_type": "display_data",
          "data": {
            "text/plain": [
              "<Figure size 432x288 with 1 Axes>"
            ],
            "image/png": "[encoded data removed]"
          },
          "metadata": {
            "needs_background": "light"
          }
        }
      ]
    },
    {
      "cell_type": "markdown",
      "source": [
        "# 다중분류에서 로지스틱 회귀와 소프트 맥스 비교해보기"
      ],
      "metadata": {
        "id": "h2vVFLUPz4HI"
      }
    },
    {
      "cell_type": "code",
      "source": [
        "#------------------------ 로지스틱 회귀 모듈 사용----------------------------------\n",
        "lr = LogisticRegression(C=20, max_iter=1000)     # 규제 20으로 완화, 1000번 반복\n",
        "lr.fit(train_scaled,train_target)                # 학습   \n",
        "\n",
        "print(lr.score(train_scaled,train_target))       # 모델 평가\n",
        "print(lr.score(test_scaled,test_target),'\\n')\n",
        "\n",
        "proba = lr.predict_proba(test_scaled[:5])        # 예측 확률 확인\n",
        "\n",
        "print(lr.classes_)                               # 클래스 확인\n",
        "print(np.round(proba,decimals=3),'\\n')\n",
        "#------------------------ 로지스틱 회귀 모듈 사용----------------------------------\n",
        "\n",
        "\n",
        "#------------------------ 소프트 맥스 모듈 사용----------------------------------\n",
        "decision = lr.decision_function(test_scaled[:5]) # 선형 방정식 반환(즉, z확인)\n",
        "proba = softmax(decision,axis=1)                 # 소프트 맥스 사용해보기, axis=1은 각 행에 대해 계산\n",
        "print(np.round(proba,decimals=3))               \n",
        "#------------------------ 소프트 맥스 모듈 사용----------------------------------"
      ],
      "metadata": {
        "colab": {
          "base_uri": "https://localhost:8080/"
        },
        "id": "_7pltHsabTM1",
        "outputId": "06ab4e81-ef7a-4cd7-cd72-482eef71b771"
      },
      "execution_count": 9,
      "outputs": [
        {
          "output_type": "stream",
          "name": "stdout",
          "text": [
            "0.9327731092436975\n",
            "0.925 \n",
            "\n",
            "['Bream' 'Parkki' 'Perch' 'Pike' 'Roach' 'Smelt' 'Whitefish']\n",
            "[[0.    0.014 0.841 0.    0.136 0.007 0.003]\n",
            " [0.    0.003 0.044 0.    0.007 0.946 0.   ]\n",
            " [0.    0.    0.034 0.935 0.015 0.016 0.   ]\n",
            " [0.011 0.034 0.306 0.007 0.567 0.    0.076]\n",
            " [0.    0.    0.904 0.002 0.089 0.002 0.001]] \n",
            "\n",
            "[[0.    0.014 0.841 0.    0.136 0.007 0.003]\n",
            " [0.    0.003 0.044 0.    0.007 0.946 0.   ]\n",
            " [0.    0.    0.034 0.935 0.015 0.016 0.   ]\n",
            " [0.011 0.034 0.306 0.007 0.567 0.    0.076]\n",
            " [0.    0.    0.904 0.002 0.089 0.002 0.001]]\n"
          ]
        }
      ]
    },
    {
      "cell_type": "markdown",
      "source": [
        "# 확률적 경사 하강법 사용"
      ],
      "metadata": {
        "id": "i00bzAq6z_Yo"
      }
    },
    {
      "cell_type": "code",
      "source": [
        "fish = pd.read_csv('https://bit.ly/fish_csv_data')\n",
        "\n",
        "fish_input = fish.iloc[:,1:].to_numpy()\n",
        "fish_target = fish['Species'].to_numpy()\n",
        "\n",
        "# 데이터 셋 나누기\n",
        "train_input, test_input, train_target, test_target = train_test_split(fish_input, fish_target, random_state=42)\n",
        "\n",
        "# 전처리\n",
        "ss = StandardScaler() \n",
        "ss.fit(train_input)\n",
        "train_scaled = ss.transform(train_input)\n",
        "test_scaled = ss.transform(test_input)\n",
        "\n",
        "# 확률적 경사 하강법\n",
        "sc = SGDClassifier(loss='log', max_iter=10, random_state=42)\n",
        "sc.fit(train_scaled,train_target)\n",
        "\n",
        "print(sc.score(train_scaled,train_target))\n",
        "print(sc.score(test_scaled,test_target),'\\n')\n",
        "\n",
        "# 추가 학습\n",
        "\n",
        "sc.partial_fit(train_scaled,train_target)\n",
        "print(sc.score(train_scaled,train_target))\n",
        "print(sc.score(test_scaled,test_target))\n"
      ],
      "metadata": {
        "colab": {
          "base_uri": "https://localhost:8080/"
        },
        "id": "x7hdZjOvuGEk",
        "outputId": "be5b8481-7ed9-4fe2-9b22-151567d4a59c"
      },
      "execution_count": 24,
      "outputs": [
        {
          "output_type": "stream",
          "name": "stdout",
          "text": [
            "0.773109243697479\n",
            "0.775 \n",
            "\n",
            "0.8151260504201681\n",
            "0.85\n"
          ]
        },
        {
          "output_type": "stream",
          "name": "stderr",
          "text": [
            "/usr/local/lib/python3.7/dist-packages/sklearn/linear_model/_stochastic_gradient.py:700: ConvergenceWarning: Maximum number of iteration reached before convergence. Consider increasing max_iter to improve the fit.\n",
            "  ConvergenceWarning,\n"
          ]
        }
      ]
    },
    {
      "cell_type": "markdown",
      "source": [
        "# 확률적 경사 하강법의 최적의 반복 횟수 찾기"
      ],
      "metadata": {
        "id": "yQ_NVRVT0ERZ"
      }
    },
    {
      "cell_type": "code",
      "source": [
        "# 최적의 반복 횟수 찾기\n",
        "\n",
        "sc = SGDClassifier(loss='log',random_state=42)\n",
        "\n",
        "train_score = []\n",
        "test_score = []\n",
        "classes = np.unique(train_target)\n",
        "\n",
        "for _ in range(0,300):\n",
        "  sc.partial_fit(train_scaled,train_target,classes=classes)\n",
        "  train_score.append(sc.score(train_scaled,train_target))\n",
        "  test_score.append(sc.score(test_scaled,test_target))\n",
        "\n",
        "\n",
        "plt.plot(train_score,label='train')\n",
        "plt.plot(test_score,label='test')\n",
        "plt.legend()\n",
        "plt.show()"
      ],
      "metadata": {
        "colab": {
          "base_uri": "https://localhost:8080/",
          "height": 265
        },
        "id": "j7chg7DRxnz-",
        "outputId": "5f2988a4-9010-4b32-ecd8-6d7c66b849d2"
      },
      "execution_count": 30,
      "outputs": [
        {
          "output_type": "display_data",
          "data": {
            "text/plain": [
              "<Figure size 432x288 with 1 Axes>"
            ],
            "image/png": "[encoded data removed]"
          },
          "metadata": {
            "needs_background": "light"
          }
        }
      ]
    },
    {
      "cell_type": "markdown",
      "source": [
        "# 적절한 반복 횟수로 학습 시키기"
      ],
      "metadata": {
        "id": "NozOzSMS0PHa"
      }
    },
    {
      "cell_type": "code",
      "source": [
        "# 적절한 반복 횟수는 100\n",
        "\n",
        "sc = SGDClassifier(loss='log',max_iter=100,tol=None,random_state=42)\n",
        "sc.fit(train_scaled,train_target)\n",
        "\n",
        "print(sc.score(train_scaled,train_target))\n",
        "print(sc.score(test_scaled,test_target))\n"
      ],
      "metadata": {
        "colab": {
          "base_uri": "https://localhost:8080/"
        },
        "id": "k05xULorzmTH",
        "outputId": "cf21fc64-7d52-4246-8e68-40dc597d1345"
      },
      "execution_count": 31,
      "outputs": [
        {
          "output_type": "stream",
          "name": "stdout",
          "text": [
            "0.957983193277311\n",
            "0.925\n"
          ]
        }
      ]
    }
  ]
}